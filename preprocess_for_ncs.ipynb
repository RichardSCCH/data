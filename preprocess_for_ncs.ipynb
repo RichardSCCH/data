{
 "cells": [
  {
   "cell_type": "code",
   "execution_count": 1,
   "metadata": {
    "collapsed": true
   },
   "outputs": [],
   "source": [
    "import os\n",
    "import re\n",
    "\n",
    "import pandas as pd\n",
    "from sklearn.model_selection import train_test_split\n",
    "\n",
    "from parseAstJava import parse_java"
   ]
  },
  {
   "cell_type": "code",
   "execution_count": 2,
   "outputs": [],
   "source": [
    "comments = pd.read_csv('comments.tsv', sep='\\t', header=None)\n",
    "comments.columns = [\"id\", \"com\"]\n"
   ],
   "metadata": {
    "collapsed": false,
    "pycharm": {
     "name": "#%%\n"
    }
   }
  },
  {
   "cell_type": "code",
   "execution_count": 3,
   "outputs": [],
   "source": [
    "funs = pd.read_json('functions.json', typ='series')\n",
    "funs = funs.reset_index()\n",
    "funs.columns = [\"id\", \"fun\"]"
   ],
   "metadata": {
    "collapsed": false,
    "pycharm": {
     "name": "#%%\n"
    }
   }
  },
  {
   "cell_type": "code",
   "execution_count": 4,
   "outputs": [],
   "source": [
    "def add_missing_closing_tags(text, opening_tag, closing_tag, repl=None):\n",
    "    if repl is None:\n",
    "        repl = closing_tag\n",
    "    otc = text.count(opening_tag)\n",
    "    ctc = text.count(closing_tag)\n",
    "    if otc > ctc:\n",
    "        text += repl*(otc-ctc)\n",
    "    return text\n",
    "\n",
    "def replace_whitespaces_comments(text):\n",
    "    text = re.sub(r\"(?<!(public )|(rivate )|(tected ))enum(?![a-z0-9A-Z])\", r\"enums\", text)\n",
    "\n",
    "    text = re.sub(\"(\\\\t)|(//\\\\n)\", \"<whitespace_character>\", \"<newline_character>\"+text)\n",
    "    text = re.sub(\"(\\\\n)\", \"<newline_character><newline_character>\", text)\n",
    "    text = re.sub(r\"}\\s*;(<newline_character>)+?$\", \"}<newline_character>\", text)\n",
    "    text = re.sub(r\"((<whitespace_character>)|(<newline_character>)|([;}{,)|])|(case.*?:))(<whitespace_character>)*\\s*(//.*?<newline_character>)\", r\"\\1 \", text)\n",
    "    text = re.sub(\"\\s*(//((?!\\\").)+?<newline_character>)\", \" \", text)\n",
    "\n",
    "    text = add_missing_closing_tags(text, \"/*\", \"*/\")\n",
    "    text = re.sub(r\"/\\*.*?\\*/\", \" \", text)\n",
    "    text = add_missing_closing_tags(text, \"{<newline_character>\", r\"}((<newline_character>)|( catch)|( else)\", \"}<newline_character>\")\n",
    "    text = re.sub(\"(<whitespace_character>)|(<newline_character>)\", \" \", text)\n",
    "    return text\n",
    "\n",
    "\n",
    "def split_single_special_characters(text):\n",
    "    return re.sub(r\"([()\\[\\]{};.,@_])\", r\" \\1 \", text)\n",
    "\n",
    "\n",
    "def split_camel_case(text):\n",
    "    return re.sub(r\"(?<=[a-z])([A-Z])\", r\" \\1\", text)\n",
    "\n",
    "\n",
    "def trim_whitespaces(text):\n",
    "    return str.strip(re.sub(\"\\s+\", ' ', text))\n",
    "\n",
    "\n",
    "def split_combined_special_characters(text):\n",
    "    return re.sub(r\"([<>|&!/*\\-+=]+)\", r\" \\1 \", text)\n",
    "\n",
    "\n",
    "def parse_ast(text):\n",
    "    try:\n",
    "        return parse_java(text)\n",
    "    except:\n",
    "        return \"\"\n"
   ],
   "metadata": {
    "collapsed": false,
    "pycharm": {
     "name": "#%%\n"
    }
   }
  },
  {
   "cell_type": "code",
   "execution_count": 5,
   "outputs": [],
   "source": [
    "funs[\"fun\"] = funs[\"fun\"].apply(replace_whitespaces_comments)\n",
    "funs = funs.loc[funs[\"fun\"].str.strip().str.len() != 0]"
   ],
   "metadata": {
    "collapsed": false,
    "pycharm": {
     "name": "#%%\n"
    }
   }
  },
  {
   "cell_type": "code",
   "execution_count": 6,
   "outputs": [],
   "source": [
    "funs[\"ast\"] = funs[\"fun\"].apply(parse_ast).apply(lambda x: x.encode('unicode-escape').decode('ascii'))"
   ],
   "metadata": {
    "collapsed": false,
    "pycharm": {
     "name": "#%%\n"
    }
   }
  },
  {
   "cell_type": "code",
   "execution_count": 7,
   "outputs": [],
   "source": [
    "funs = funs.loc[funs[\"ast\"].str.strip().str.len() != 0]"
   ],
   "metadata": {
    "collapsed": false,
    "pycharm": {
     "name": "#%%\n"
    }
   }
  },
  {
   "cell_type": "code",
   "execution_count": 8,
   "outputs": [],
   "source": [
    "# TODO: fun trim whitespaces\n",
    "funs[\"fun_processed\"] = funs[\"fun\"].apply(lambda s: trim_whitespaces(\n",
    "    split_combined_special_characters(split_camel_case(split_single_special_characters(s)))))"
   ],
   "metadata": {
    "collapsed": false,
    "pycharm": {
     "name": "#%%\n"
    }
   }
  },
  {
   "cell_type": "code",
   "execution_count": 9,
   "outputs": [
    {
     "data": {
      "text/plain": "    id                                                fun  \\\n0  321    public int getPushesLowerbound() {    return...   \n1  323    public void setPushesLowerbound(int pushesLo...   \n2  324     public void play() {            if(currentS...   \n3  343    public int getInfluenceValue(int boxNo1, int...   \n4  351    public void setPositions(int[] positions){  ...   \n\n                                                 ast  \\\n0  MethodDeclaration Modifier public BasicType in...   \n1  MethodDeclaration Modifier public setPushesLow...   \n2  MethodDeclaration Modifier public play IfState...   \n3  MethodDeclaration Modifier public BasicType in...   \n4  MethodDeclaration Modifier public setPositions...   \n\n                                       fun_processed  \n0  public int get Pushes Lowerbound ( ) { return ...  \n1  public void set Pushes Lowerbound ( int pushes...  \n2  public void play ( ) { if ( current Sound File...  \n3  public int get Influence Value ( int box No1 ,...  \n4  public void set Positions ( int [ ] positions ...  ",
      "text/html": "<div>\n<style scoped>\n    .dataframe tbody tr th:only-of-type {\n        vertical-align: middle;\n    }\n\n    .dataframe tbody tr th {\n        vertical-align: top;\n    }\n\n    .dataframe thead th {\n        text-align: right;\n    }\n</style>\n<table border=\"1\" class=\"dataframe\">\n  <thead>\n    <tr style=\"text-align: right;\">\n      <th></th>\n      <th>id</th>\n      <th>fun</th>\n      <th>ast</th>\n      <th>fun_processed</th>\n    </tr>\n  </thead>\n  <tbody>\n    <tr>\n      <th>0</th>\n      <td>321</td>\n      <td>public int getPushesLowerbound() {    return...</td>\n      <td>MethodDeclaration Modifier public BasicType in...</td>\n      <td>public int get Pushes Lowerbound ( ) { return ...</td>\n    </tr>\n    <tr>\n      <th>1</th>\n      <td>323</td>\n      <td>public void setPushesLowerbound(int pushesLo...</td>\n      <td>MethodDeclaration Modifier public setPushesLow...</td>\n      <td>public void set Pushes Lowerbound ( int pushes...</td>\n    </tr>\n    <tr>\n      <th>2</th>\n      <td>324</td>\n      <td>public void play() {            if(currentS...</td>\n      <td>MethodDeclaration Modifier public play IfState...</td>\n      <td>public void play ( ) { if ( current Sound File...</td>\n    </tr>\n    <tr>\n      <th>3</th>\n      <td>343</td>\n      <td>public int getInfluenceValue(int boxNo1, int...</td>\n      <td>MethodDeclaration Modifier public BasicType in...</td>\n      <td>public int get Influence Value ( int box No1 ,...</td>\n    </tr>\n    <tr>\n      <th>4</th>\n      <td>351</td>\n      <td>public void setPositions(int[] positions){  ...</td>\n      <td>MethodDeclaration Modifier public setPositions...</td>\n      <td>public void set Positions ( int [ ] positions ...</td>\n    </tr>\n  </tbody>\n</table>\n</div>"
     },
     "execution_count": 9,
     "metadata": {},
     "output_type": "execute_result"
    }
   ],
   "source": [
    "funs.head()"
   ],
   "metadata": {
    "collapsed": false,
    "pycharm": {
     "name": "#%%\n"
    }
   }
  },
  {
   "cell_type": "code",
   "execution_count": 10,
   "outputs": [],
   "source": [
    "df_cd = pd.merge(funs, comments, how='inner')"
   ],
   "metadata": {
    "collapsed": false,
    "pycharm": {
     "name": "#%%\n"
    }
   }
  },
  {
   "cell_type": "code",
   "execution_count": 11,
   "outputs": [],
   "source": [
    "df_cd = df_cd.set_index(\"id\")"
   ],
   "metadata": {
    "collapsed": false,
    "pycharm": {
     "name": "#%%\n"
    }
   }
  },
  {
   "cell_type": "code",
   "execution_count": 12,
   "outputs": [
    {
     "data": {
      "text/plain": "                                                   fun  \\\nid                                                       \n321    public int getPushesLowerbound() {    return...   \n323    public void setPushesLowerbound(int pushesLo...   \n324     public void play() {            if(currentS...   \n343    public int getInfluenceValue(int boxNo1, int...   \n351    public void setPositions(int[] positions){  ...   \n\n                                                   ast  \\\nid                                                       \n321  MethodDeclaration Modifier public BasicType in...   \n323  MethodDeclaration Modifier public setPushesLow...   \n324  MethodDeclaration Modifier public play IfState...   \n343  MethodDeclaration Modifier public BasicType in...   \n351  MethodDeclaration Modifier public setPositions...   \n\n                                         fun_processed  \\\nid                                                       \n321  public int get Pushes Lowerbound ( ) { return ...   \n323  public void set Pushes Lowerbound ( int pushes...   \n324  public void play ( ) { if ( current Sound File...   \n343  public int get Influence Value ( int box No1 ,...   \n351  public void set Positions ( int [ ] positions ...   \n\n                                                   com  \nid                                                      \n321  returns the pushes lowerbound of this board po...  \n323  sets the pushes lowerbound of this board position  \n324                                       play a sound  \n343  returns the influence value between the positi...  \n351     sets the box positions and the player position  ",
      "text/html": "<div>\n<style scoped>\n    .dataframe tbody tr th:only-of-type {\n        vertical-align: middle;\n    }\n\n    .dataframe tbody tr th {\n        vertical-align: top;\n    }\n\n    .dataframe thead th {\n        text-align: right;\n    }\n</style>\n<table border=\"1\" class=\"dataframe\">\n  <thead>\n    <tr style=\"text-align: right;\">\n      <th></th>\n      <th>fun</th>\n      <th>ast</th>\n      <th>fun_processed</th>\n      <th>com</th>\n    </tr>\n    <tr>\n      <th>id</th>\n      <th></th>\n      <th></th>\n      <th></th>\n      <th></th>\n    </tr>\n  </thead>\n  <tbody>\n    <tr>\n      <th>321</th>\n      <td>public int getPushesLowerbound() {    return...</td>\n      <td>MethodDeclaration Modifier public BasicType in...</td>\n      <td>public int get Pushes Lowerbound ( ) { return ...</td>\n      <td>returns the pushes lowerbound of this board po...</td>\n    </tr>\n    <tr>\n      <th>323</th>\n      <td>public void setPushesLowerbound(int pushesLo...</td>\n      <td>MethodDeclaration Modifier public setPushesLow...</td>\n      <td>public void set Pushes Lowerbound ( int pushes...</td>\n      <td>sets the pushes lowerbound of this board position</td>\n    </tr>\n    <tr>\n      <th>324</th>\n      <td>public void play() {            if(currentS...</td>\n      <td>MethodDeclaration Modifier public play IfState...</td>\n      <td>public void play ( ) { if ( current Sound File...</td>\n      <td>play a sound</td>\n    </tr>\n    <tr>\n      <th>343</th>\n      <td>public int getInfluenceValue(int boxNo1, int...</td>\n      <td>MethodDeclaration Modifier public BasicType in...</td>\n      <td>public int get Influence Value ( int box No1 ,...</td>\n      <td>returns the influence value between the positi...</td>\n    </tr>\n    <tr>\n      <th>351</th>\n      <td>public void setPositions(int[] positions){  ...</td>\n      <td>MethodDeclaration Modifier public setPositions...</td>\n      <td>public void set Positions ( int [ ] positions ...</td>\n      <td>sets the box positions and the player position</td>\n    </tr>\n  </tbody>\n</table>\n</div>"
     },
     "execution_count": 12,
     "metadata": {},
     "output_type": "execute_result"
    }
   ],
   "source": [
    "df_cd.head()"
   ],
   "metadata": {
    "collapsed": false,
    "pycharm": {
     "name": "#%%\n"
    }
   }
  },
  {
   "cell_type": "code",
   "execution_count": 13,
   "outputs": [],
   "source": [
    "X = df_cd[[\"fun\", \"ast\", \"fun_processed\"]]\n",
    "y = df_cd[\"com\"]"
   ],
   "metadata": {
    "collapsed": false,
    "pycharm": {
     "name": "#%%\n"
    }
   }
  },
  {
   "cell_type": "code",
   "execution_count": 22,
   "outputs": [],
   "source": [
    "X_train, X_test, y_train, y_test = train_test_split(X, y, test_size=0.1, random_state=1)\n",
    "\n",
    "X_test, X_val, y_test, y_val = train_test_split(X_test, y_test, test_size=0.5, random_state=1)"
   ],
   "metadata": {
    "collapsed": false,
    "pycharm": {
     "name": "#%%\n"
    }
   }
  },
  {
   "cell_type": "code",
   "execution_count": 23,
   "outputs": [
    {
     "name": "stdout",
     "output_type": "stream",
     "text": [
      "(1928633, 3) (107146, 3)\n"
     ]
    }
   ],
   "source": [
    "print(X_train.shape, X_test.shape)"
   ],
   "metadata": {
    "collapsed": false,
    "pycharm": {
     "name": "#%%\n"
    }
   }
  },
  {
   "cell_type": "code",
   "execution_count": 25,
   "outputs": [],
   "source": [
    "os.mkdir(\"train\")\n",
    "os.mkdir(\"test\")\n",
    "os.mkdir(\"valid\")\n",
    "os.mkdir(\"dev\")"
   ],
   "metadata": {
    "collapsed": false,
    "pycharm": {
     "name": "#%%\n"
    }
   }
  },
  {
   "cell_type": "code",
   "execution_count": 26,
   "outputs": [],
   "source": [
    "\n",
    "X_train[\"fun_processed\"].to_csv(\"train/code.original_subtoken\", index=False, header=False)\n",
    "X_train[\"fun_processed\"].to_csv(\"train/train.spl.src\", index=False, header=False)\n",
    "X_train[\"fun\"].to_csv(\"train/train.txt.src\", index=False, header=False)\n",
    "X_train[\"ast\"].to_csv(\"train/train.ast.src\", index=False, header=False)\n",
    "y_train.to_csv(\"train/javadoc.original\", index=False, header=False)\n",
    "y_train.to_csv(\"train/train.txt.tgt\", index=False, header=False)"
   ],
   "metadata": {
    "collapsed": false,
    "pycharm": {
     "name": "#%%\n"
    }
   }
  },
  {
   "cell_type": "code",
   "execution_count": 27,
   "outputs": [],
   "source": [
    "X_test[\"fun_processed\"].to_csv(\"test/code.original_subtoken\", index=False, header=False)\n",
    "X_test[\"fun_processed\"].to_csv(\"test/test.spl.src\", index=False, header=False)\n",
    "X_test[\"fun\"].to_csv(\"test/test.txt.src\", index=False, header=False)\n",
    "X_test[\"ast\"].to_csv(\"test/test.ast.src\", index=False, header=False)\n",
    "y_test.to_csv(\"test/javadoc.original\", index=False, header=False)\n",
    "y_test.to_csv(\"test/test.txt.tgt\", index=False, header=False)"
   ],
   "metadata": {
    "collapsed": false,
    "pycharm": {
     "name": "#%%\n"
    }
   }
  },
  {
   "cell_type": "code",
   "execution_count": 28,
   "outputs": [],
   "source": [
    "X_val[\"fun_processed\"].to_csv(\"dev/code.original_subtoken\", index=False, header=False)\n",
    "X_val[\"fun_processed\"].to_csv(\"valid/valid.spl.src\", index=False, header=False)\n",
    "X_val[\"fun\"].to_csv(\"valid/valid.txt.src\", index=False, header=False)\n",
    "X_val[\"ast\"].to_csv(\"valid/valid.ast.src\", index=False, header=False)\n",
    "y_val.to_csv(\"dev/javadoc.original\", index=False, header=False)\n",
    "y_val.to_csv(\"valid/valid.txt.tgt\", index=False, header=False)\n"
   ],
   "metadata": {
    "collapsed": false,
    "pycharm": {
     "name": "#%%\n"
    }
   }
  }
 ],
 "metadata": {
  "kernelspec": {
   "display_name": "Python 3",
   "language": "python",
   "name": "python3"
  },
  "language_info": {
   "codemirror_mode": {
    "name": "ipython",
    "version": 2
   },
   "file_extension": ".py",
   "mimetype": "text/x-python",
   "name": "python",
   "nbconvert_exporter": "python",
   "pygments_lexer": "ipython2",
   "version": "2.7.6"
  }
 },
 "nbformat": 4,
 "nbformat_minor": 0
}